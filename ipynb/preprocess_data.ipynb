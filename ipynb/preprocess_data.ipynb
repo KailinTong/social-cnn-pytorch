{
 "cells": [
  {
   "cell_type": "code",
   "execution_count": 1,
   "metadata": {},
   "outputs": [],
   "source": [
    "# Empty Cell"
   ]
  },
  {
   "cell_type": "code",
   "execution_count": 4,
   "metadata": {},
   "outputs": [],
   "source": [
    "# Execute this cell to process training data. Skip next cell.\n",
    "\n",
    "import numpy as np\n",
    "import csv\n",
    "\n",
    "input_directory  = \"/home/haruki/Documents/2018-19_Autumn/CS_230/pedestrian_prediction/social-cnn-pytorch/data/train/raw/\"\n",
    "output_directory = \"/home/haruki/Documents/2018-19_Autumn/CS_230/pedestrian_prediction/social-cnn-pytorch/data/train/processed/\"\n",
    "dataset_file_names = [\"biwi/biwi_hotel.txt\",\n",
    "                      \"crowds/arxiepiskopi1.txt\",\n",
    "                      \"crowds/crowds_zara02.txt\",\n",
    "                      \"crowds/crowds_zara03.txt\",\n",
    "                      \"crowds/students001.txt\",\n",
    "                      \"crowds/students003.txt\",\n",
    "                      \"mot/PETS09-S2L1.txt\",\n",
    "                      \"stanford/bookstore_0.txt\",\n",
    "                      \"stanford/bookstore_1.txt\",\n",
    "                      \"stanford/bookstore_2.txt\",\n",
    "                      \"stanford/bookstore_3.txt\",\n",
    "                      \"stanford/coupa_3.txt\",\n",
    "                      \"stanford/deathCircle_0.txt\",\n",
    "                      \"stanford/deathCircle_1.txt\",\n",
    "                      \"stanford/deathCircle_2.txt\",\n",
    "                      \"stanford/deathCircle_3.txt\",\n",
    "                      \"stanford/deathCircle_4.txt\",\n",
    "                      \"stanford/gates_0.txt\",\n",
    "                      \"stanford/gates_1.txt\",\n",
    "                      \"stanford/gates_3.txt\",\n",
    "                      \"stanford/gates_4.txt\",\n",
    "                      \"stanford/gates_5.txt\",\n",
    "                      \"stanford/gates_6.txt\",\n",
    "                      \"stanford/gates_7.txt\",\n",
    "                      \"stanford/gates_8.txt\",\n",
    "                      \"stanford/hyang_4.txt\",\n",
    "                      \"stanford/hyang_5.txt\",\n",
    "                      \"stanford/hyang_6.txt\",\n",
    "                      \"stanford/hyang_7.txt\",\n",
    "                      \"stanford/hyang_9.txt\",\n",
    "                      \"stanford/nexus_0.txt\",\n",
    "                      \"stanford/nexus_1.txt\",\n",
    "                      \"stanford/nexus_2.txt\",\n",
    "                      \"stanford/nexus_3.txt\",\n",
    "                      \"stanford/nexus_4.txt\",\n",
    "                      \"stanford/nexus_7.txt\",\n",
    "                      \"stanford/nexus_8.txt\",\n",
    "                      \"stanford/nexus_9.txt\"]\n",
    "\n",
    "# Store paths to each dataset.\n",
    "dataset_paths = []\n",
    "for ii in range(len(dataset_file_names)):\n",
    "    filename = input_directory + dataset_file_names[ii]\n",
    "    dataset_paths.append(filename)\n"
   ]
  },
  {
   "cell_type": "code",
   "execution_count": 5,
   "metadata": {},
   "outputs": [],
   "source": [
    "# Find x_max, x_min, y_max, y_min across all the data.\n",
    "x_max_global, x_min_global, y_max_global, y_min_global = -1000, 1000, -1000, 1000\n",
    "for ii in range(len(dataset_file_names)):\n",
    "    txtfile = open(dataset_paths[ii], 'r')\n",
    "    lines = txtfile.read().splitlines()\n",
    "    data = [line.split() for line in lines]\n",
    "    data = np.transpose(sorted(data, key=lambda line: int(line[0])))\n",
    "    data[[2,3]] = data[[3,2]]\n",
    "    y = data[2,:].astype(np.float)\n",
    "    y_min, y_max = min(y), max(y)\n",
    "    if y_min < y_min_global:\n",
    "        y_min_global = y_min\n",
    "    if y_max > y_max_global:\n",
    "        y_max_global = y_max\n",
    "    \n",
    "    x = data[3,:].astype(np.float)\n",
    "    x_min, x_max = min(x), max(x)\n",
    "    if x_min < x_min_global:\n",
    "        x_min_global = x_min\n",
    "    if x_max > x_max_global:\n",
    "        x_max_global = x_max\n",
    "        \n",
    "scale_factor_x = (x_max_global - x_min_global)/(100 + 100)\n",
    "scale_factor_y = (y_max_global - y_min_global)/(100 + 100)"
   ]
  },
  {
   "cell_type": "code",
   "execution_count": 6,
   "metadata": {},
   "outputs": [
    {
     "name": "stdout",
     "output_type": "stream",
     "text": [
      "(-28.242, 63.559)\n"
     ]
    }
   ],
   "source": [
    "print((y_min_global, y_max_global))"
   ]
  },
  {
   "cell_type": "code",
   "execution_count": 7,
   "metadata": {},
   "outputs": [
    {
     "name": "stdout",
     "output_type": "stream",
     "text": [
      "0.459005\n"
     ]
    }
   ],
   "source": [
    "print(scale_factor_y)"
   ]
  },
  {
   "cell_type": "code",
   "execution_count": 8,
   "metadata": {},
   "outputs": [
    {
     "name": "stdout",
     "output_type": "stream",
     "text": [
      "(-37.029, 36.737)\n"
     ]
    }
   ],
   "source": [
    "print((x_min_global, x_max_global))"
   ]
  },
  {
   "cell_type": "code",
   "execution_count": 9,
   "metadata": {},
   "outputs": [
    {
     "name": "stdout",
     "output_type": "stream",
     "text": [
      "0.36883000000000005\n"
     ]
    }
   ],
   "source": [
    "print(scale_factor_x)"
   ]
  },
  {
   "cell_type": "code",
   "execution_count": 10,
   "metadata": {},
   "outputs": [],
   "source": [
    "# Rescale data and save.\n",
    "output_paths = []\n",
    "for ii in range(len(dataset_file_names)):\n",
    "    txtfile = open(dataset_paths[ii], 'r')\n",
    "    lines = txtfile.read().splitlines()\n",
    "    data = [line.split() for line in lines]\n",
    "    data = np.transpose(sorted(data, key=lambda line: int(line[0])))\n",
    "    data[[2,3]] = data[[3,2]]\n",
    "    y = data[2,:].astype(np.float)\n",
    "    y = (100 + 100)*(y - y_min_global)/(y_max_global - y_min_global)\n",
    "    y = y - 100.0\n",
    "    y = y*(-1.0)\n",
    "    for jj in range(len(y)):\n",
    "        if abs(y[jj]) < 0.0001:\n",
    "            data[2,jj] = 0.0\n",
    "        else:\n",
    "            data[2,jj] = y[jj] \n",
    "    x = data[3,:].astype(np.float)\n",
    "    x = (100 + 100)*(x - x_min_global)/(x_max_global - x_min_global)\n",
    "    x = x - 100.0\n",
    "    for jj in range(len(x)):\n",
    "        if abs(x[jj]) < 0.0001:\n",
    "            data[3,jj] = 0.0\n",
    "        else:\n",
    "            data[3,jj] = x[jj]\n",
    "    path_new = output_directory + dataset_file_names[ii][0:-4] + \"/world_pos_normalized.csv\"\n",
    "    with open(path_new,'w') as out:\n",
    "        csv_out = csv.writer(out)\n",
    "        for row in data:\n",
    "            csv_out.writerow(row)\n",
    "    output_paths.append(path_new)"
   ]
  },
  {
   "cell_type": "code",
   "execution_count": 11,
   "metadata": {},
   "outputs": [
    {
     "name": "stdout",
     "output_type": "stream",
     "text": [
      "/home/haruki/Documents/2018-19_Autumn/CS_230/pedestrian_prediction/social-cnn-pytorch/data/train/processed/biwi/biwi_hotel/world_pos_normalized.csv\n",
      "29.081 60.932\n",
      "-7.114 11.349\n",
      "/home/haruki/Documents/2018-19_Autumn/CS_230/pedestrian_prediction/social-cnn-pytorch/data/train/processed/crowds/arxiepiskopi1/world_pos_normalized.csv\n",
      "37.97 53.786\n",
      "-95.06 -5.812\n",
      "/home/haruki/Documents/2018-19_Autumn/CS_230/pedestrian_prediction/social-cnn-pytorch/data/train/processed/crowds/crowds_zara02/world_pos_normalized.csv\n",
      "8.7373 38.612\n",
      "-0.268 41.875\n",
      "/home/haruki/Documents/2018-19_Autumn/CS_230/pedestrian_prediction/social-cnn-pytorch/data/train/processed/crowds/crowds_zara03/world_pos_normalized.csv\n",
      "11.517 37.349\n",
      "-0.111 42.176\n",
      "/home/haruki/Documents/2018-19_Autumn/CS_230/pedestrian_prediction/social-cnn-pytorch/data/train/processed/crowds/students001/world_pos_normalized.csv\n",
      "8.3691 38.808\n",
      "-0.664 42.076\n",
      "/home/haruki/Documents/2018-19_Autumn/CS_230/pedestrian_prediction/social-cnn-pytorch/data/train/processed/crowds/students003/world_pos_normalized.csv\n",
      "8.624 38.954\n",
      "0.4744 41.981\n",
      "/home/haruki/Documents/2018-19_Autumn/CS_230/pedestrian_prediction/social-cnn-pytorch/data/train/processed/mot/PETS09-S2L1/world_pos_normalized.csv\n",
      "30.824 74.113\n",
      "-53.47 19.971\n",
      "/home/haruki/Documents/2018-19_Autumn/CS_230/pedestrian_prediction/social-cnn-pytorch/data/train/processed/stanford/bookstore_0/world_pos_normalized.csv\n",
      "-6.2363 82.5513\n",
      "-72.727 73.4674\n",
      "/home/haruki/Documents/2018-19_Autumn/CS_230/pedestrian_prediction/social-cnn-pytorch/data/train/processed/stanford/bookstore_1/world_pos_normalized.csv\n",
      "-7.5042 84.7953\n",
      "-75.801 75.9997\n",
      "/home/haruki/Documents/2018-19_Autumn/CS_230/pedestrian_prediction/social-cnn-pytorch/data/train/processed/stanford/bookstore_2/world_pos_normalized.csv\n",
      "-8.8354 85.865\n",
      "-77.089 77.716\n",
      "/home/haruki/Documents/2018-19_Autumn/CS_230/pedestrian_prediction/social-cnn-pytorch/data/train/processed/stanford/bookstore_3/world_pos_normalized.csv\n",
      "-6.5478 83.9587\n",
      "-74.126 63.8424\n",
      "/home/haruki/Documents/2018-19_Autumn/CS_230/pedestrian_prediction/social-cnn-pytorch/data/train/processed/stanford/coupa_3/world_pos_normalized.csv\n",
      "8.71994 67.972\n",
      "-46.972 86.3134\n",
      "/home/haruki/Documents/2018-19_Autumn/CS_230/pedestrian_prediction/social-cnn-pytorch/data/train/processed/stanford/deathCircle_0/world_pos_normalized.csv\n",
      "-82.915 84.865\n",
      "-77.23 100.0\n",
      "/home/haruki/Documents/2018-19_Autumn/CS_230/pedestrian_prediction/social-cnn-pytorch/data/train/processed/stanford/deathCircle_1/world_pos_normalized.csv\n",
      "-76.629 83.4969\n",
      "-74.245 72.8655\n",
      "/home/haruki/Documents/2018-19_Autumn/CS_230/pedestrian_prediction/social-cnn-pytorch/data/train/processed/stanford/deathCircle_2/world_pos_normalized.csv\n",
      "-58.773 41.7827\n",
      "-72.719 72.9767\n",
      "/home/haruki/Documents/2018-19_Autumn/CS_230/pedestrian_prediction/social-cnn-pytorch/data/train/processed/stanford/deathCircle_3/world_pos_normalized.csv\n",
      "-44.667 71.5101\n",
      "-53.764 52.436\n",
      "/home/haruki/Documents/2018-19_Autumn/CS_230/pedestrian_prediction/social-cnn-pytorch/data/train/processed/stanford/deathCircle_4/world_pos_normalized.csv\n",
      "-74.008 67.4295\n",
      "-73.055 60.8491\n",
      "/home/haruki/Documents/2018-19_Autumn/CS_230/pedestrian_prediction/social-cnn-pytorch/data/train/processed/stanford/gates_0/world_pos_normalized.csv\n",
      "-41.327 43.6258\n",
      "-75.029 65.2007\n",
      "/home/haruki/Documents/2018-19_Autumn/CS_230/pedestrian_prediction/social-cnn-pytorch/data/train/processed/stanford/gates_1/world_pos_normalized.csv\n",
      "-77.322 81.3139\n",
      "-69.842 72.166\n",
      "/home/haruki/Documents/2018-19_Autumn/CS_230/pedestrian_prediction/social-cnn-pytorch/data/train/processed/stanford/gates_3/world_pos_normalized.csv\n",
      "-70.261 77.9871\n",
      "-65.439 67.2125\n",
      "/home/haruki/Documents/2018-19_Autumn/CS_230/pedestrian_prediction/social-cnn-pytorch/data/train/processed/stanford/gates_4/world_pos_normalized.csv\n",
      "-96.49 88.024\n",
      "-48.412 84.8548\n",
      "/home/haruki/Documents/2018-19_Autumn/CS_230/pedestrian_prediction/social-cnn-pytorch/data/train/processed/stanford/gates_5/world_pos_normalized.csv\n",
      "-57.457 64.8413\n",
      "-63.462 64.1704\n",
      "/home/haruki/Documents/2018-19_Autumn/CS_230/pedestrian_prediction/social-cnn-pytorch/data/train/processed/stanford/gates_6/world_pos_normalized.csv\n",
      "-68.385 33.7719\n",
      "-49.407 56.7442\n",
      "/home/haruki/Documents/2018-19_Autumn/CS_230/pedestrian_prediction/social-cnn-pytorch/data/train/processed/stanford/gates_7/world_pos_normalized.csv\n",
      "-30.769 56.7717\n",
      "-85.649 59.301\n",
      "/home/haruki/Documents/2018-19_Autumn/CS_230/pedestrian_prediction/social-cnn-pytorch/data/train/processed/stanford/gates_8/world_pos_normalized.csv\n",
      "-21.122 29.3842\n",
      "-85.435 68.8257\n",
      "/home/haruki/Documents/2018-19_Autumn/CS_230/pedestrian_prediction/social-cnn-pytorch/data/train/processed/stanford/hyang_4/world_pos_normalized.csv\n",
      "24.4735 78.4468\n",
      "-64.311 55.535\n",
      "/home/haruki/Documents/2018-19_Autumn/CS_230/pedestrian_prediction/social-cnn-pytorch/data/train/processed/stanford/hyang_5/world_pos_normalized.csv\n",
      "-53.854 71.5667\n",
      "-55.887 59.3308\n",
      "/home/haruki/Documents/2018-19_Autumn/CS_230/pedestrian_prediction/social-cnn-pytorch/data/train/processed/stanford/hyang_6/world_pos_normalized.csv\n",
      "3.5261 100.0\n",
      "-100.0 99.7153\n",
      "/home/haruki/Documents/2018-19_Autumn/CS_230/pedestrian_prediction/social-cnn-pytorch/data/train/processed/stanford/hyang_7/world_pos_normalized.csv\n",
      "-68.81 78.2682\n",
      "-60.266 69.696\n",
      "/home/haruki/Documents/2018-19_Autumn/CS_230/pedestrian_prediction/social-cnn-pytorch/data/train/processed/stanford/hyang_9/world_pos_normalized.csv\n",
      "67.8434 69.8325\n",
      "-0.1708 28.5985\n",
      "/home/haruki/Documents/2018-19_Autumn/CS_230/pedestrian_prediction/social-cnn-pytorch/data/train/processed/stanford/nexus_0/world_pos_normalized.csv\n",
      "-96.888 89.0219\n",
      "-83.266 70.9974\n",
      "/home/haruki/Documents/2018-19_Autumn/CS_230/pedestrian_prediction/social-cnn-pytorch/data/train/processed/stanford/nexus_1/world_pos_normalized.csv\n",
      "-91.76 88.1112\n",
      "-82.68 83.8977\n",
      "/home/haruki/Documents/2018-19_Autumn/CS_230/pedestrian_prediction/social-cnn-pytorch/data/train/processed/stanford/nexus_2/world_pos_normalized.csv\n",
      "-87.579 38.1488\n",
      "-79.784 70.5555\n",
      "/home/haruki/Documents/2018-19_Autumn/CS_230/pedestrian_prediction/social-cnn-pytorch/data/train/processed/stanford/nexus_3/world_pos_normalized.csv\n",
      "-79.836 82.6559\n",
      "-85.692 57.498\n",
      "/home/haruki/Documents/2018-19_Autumn/CS_230/pedestrian_prediction/social-cnn-pytorch/data/train/processed/stanford/nexus_4/world_pos_normalized.csv\n",
      "-73.937 85.6036\n",
      "-87.807 69.7502\n",
      "/home/haruki/Documents/2018-19_Autumn/CS_230/pedestrian_prediction/social-cnn-pytorch/data/train/processed/stanford/nexus_7/world_pos_normalized.csv\n",
      "-75.067 77.5165\n",
      "-70.983 72.429\n",
      "/home/haruki/Documents/2018-19_Autumn/CS_230/pedestrian_prediction/social-cnn-pytorch/data/train/processed/stanford/nexus_8/world_pos_normalized.csv\n",
      "-59.588 57.508\n",
      "-70.43 62.419\n",
      "/home/haruki/Documents/2018-19_Autumn/CS_230/pedestrian_prediction/social-cnn-pytorch/data/train/processed/stanford/nexus_9/world_pos_normalized.csv\n",
      "-100.0 89.8955\n",
      "-85.158 84.4264\n"
     ]
    }
   ],
   "source": [
    "for path in output_paths:\n",
    "    print(path)\n",
    "    with open(path,'r') as f:\n",
    "        csv_in = csv.reader(f)\n",
    "        data = []\n",
    "        for row in csv_in:\n",
    "            data.append(row)\n",
    "        y_min,y_max = min(np.float_(data[2])),max(np.float_(data[2]))\n",
    "        x_min,x_max = min(np.float_(data[3])),max(np.float_(data[3]))\n",
    "        print(y_min,y_max)\n",
    "        print(x_min,x_max)"
   ]
  },
  {
   "cell_type": "code",
   "execution_count": null,
   "metadata": {},
   "outputs": [],
   "source": []
  }
 ],
 "metadata": {
  "kernelspec": {
   "display_name": "Python 3",
   "language": "python",
   "name": "python3"
  },
  "language_info": {
   "codemirror_mode": {
    "name": "ipython",
    "version": 3
   },
   "file_extension": ".py",
   "mimetype": "text/x-python",
   "name": "python",
   "nbconvert_exporter": "python",
   "pygments_lexer": "ipython3",
   "version": "3.6.6"
  }
 },
 "nbformat": 4,
 "nbformat_minor": 2
}

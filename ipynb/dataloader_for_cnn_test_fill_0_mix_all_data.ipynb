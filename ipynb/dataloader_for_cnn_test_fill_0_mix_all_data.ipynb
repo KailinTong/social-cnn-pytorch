{
 "cells": [
  {
   "cell_type": "code",
   "execution_count": 6,
   "metadata": {},
   "outputs": [],
   "source": [
    "import os\n",
    "import torch\n",
    "import torch.utils.data\n",
    "import pickle\n",
    "import numpy as np\n",
    "import random\n",
    "import itertools\n",
    "from tqdm import tqdm"
   ]
  },
  {
   "cell_type": "code",
   "execution_count": 12,
   "metadata": {},
   "outputs": [],
   "source": [
    "class CustomDataPreprocessorForCNN():\n",
    "    def __init__(self, input_seq_length=5, pred_seq_length=5, datasets=[i for i in range(37)], dev_ratio=0.1, test_ratio=0.1, forcePreProcess=False, augmentation=False):\n",
    "        self.data_paths = ['./data/train/raw/biwi/biwi_hotel.txt', './data/train/raw/crowds/arxiepiskopi1.txt',\n",
    "                          './data/train/raw/crowds/crowds_zara02.txt', './data/train/raw/crowds/crowds_zara03.txt',\n",
    "                          './data/train/raw/crowds/students001.txt', './data/train/raw/crowds/students003.txt', \n",
    "                          './data/train/raw/stanford/bookstore_0.txt',\n",
    "                          './data/train/raw/stanford/bookstore_1.txt', './data/train/raw/stanford/bookstore_2.txt',\n",
    "                          './data/train/raw/stanford/bookstore_3.txt', './data/train/raw/stanford/coupa_3.txt',\n",
    "                          './data/train/raw/stanford/deathCircle_0.txt', './data/train/raw/stanford/deathCircle_1.txt',\n",
    "                          './data/train/raw/stanford/deathCircle_2.txt', './data/train/raw/stanford/deathCircle_3.txt',\n",
    "                          './data/train/raw/stanford/deathCircle_4.txt', './data/train/raw/stanford/gates_0.txt',\n",
    "                          './data/train/raw/stanford/gates_1.txt', './data/train/raw/stanford/gates_3.txt',\n",
    "                          './data/train/raw/stanford/gates_4.txt', './data/train/raw/stanford/gates_5.txt',\n",
    "                          './data/train/raw/stanford/gates_6.txt', './data/train/raw/stanford/gates_7.txt',\n",
    "                          './data/train/raw/stanford/gates_8.txt', './data/train/raw/stanford/hyang_4.txt',\n",
    "                          './data/train/raw/stanford/hyang_5.txt', './data/train/raw/stanford/hyang_6.txt',\n",
    "                          './data/train/raw/stanford/hyang_7.txt', './data/train/raw/stanford/hyang_9.txt',\n",
    "                          './data/train/raw/stanford/nexus_0.txt', './data/train/raw/stanford/nexus_1.txt',\n",
    "                          './data/train/raw/stanford/nexus_2.txt', './data/train/raw/stanford/nexus_3.txt',\n",
    "                          './data/train/raw/stanford/nexus_4.txt', './data/train/raw/stanford/nexus_7.txt',\n",
    "                          './data/train/raw/stanford/nexus_8.txt', './data/train/raw/stanford/nexus_9.txt']\n",
    "        # Number of datasets\n",
    "        self.numDatasets = len(self.data_paths)\n",
    "        \n",
    "        # Data directory where the pre-processed pickle file resides\n",
    "        self.data_dir = './data/train/processed'\n",
    "        \n",
    "        # Store the arguments\n",
    "        self.input_seq_length = input_seq_length\n",
    "        self.pred_seq_length = pred_seq_length\n",
    "        \n",
    "        # Dev Ratio\n",
    "        self.dev_ratio = dev_ratio\n",
    "        # Test Ratio\n",
    "        self.test_ratio = test_ratio\n",
    "        \n",
    "        # Buffer for storing raw data.\n",
    "        self.raw_data = []\n",
    "        # Buffer for storing processed data.\n",
    "        self.processed_input_output_pairs = []\n",
    "        \n",
    "        # Scale Factor for x and y (computed in self.process())\n",
    "        self.scale_factor_x = None\n",
    "        self.scale_factor_y = None\n",
    "        \n",
    "        # Data augmentation flag\n",
    "        self.augmentation = augmentation\n",
    "        # Rotation increment (deg) for data augmentation (only valid if augmentation is True)\n",
    "        self.rot_deg_increment = 120\n",
    "        # How many pedestrian permutations to consider (only valid if augmentation is True)\n",
    "        self.permutations = 4\n",
    "        \n",
    "        # Define the path in which the process data would be stored\n",
    "        self.processed_train_data_file = os.path.join(self.data_dir, \"trajectories_cnn_train.cpkl\")\n",
    "        self.processed_dev_data_file = os.path.join(self.data_dir, \"trajectories_cnn_dev.cpkl\")\n",
    "        self.processed_test_data_file = os.path.join(self.data_dir, \"trajectories_cnn_test.cpkl\")\n",
    "        \n",
    "        # If the file doesn't exist or forcePreProcess is true\n",
    "        if not(os.path.exists(self.processed_train_data_file)) or not(os.path.exists(self.processed_dev_data_file)) or not(os.path.exists(self.processed_test_data_file)) or forcePreProcess:\n",
    "            print(\"============ Normalizing raw data (after rotation data augmentation) ============\")\n",
    "            self.normalize()\n",
    "            print(\"============ Creating pre-processed training, dev and test data for CNN ============\")\n",
    "            self.preprocess()\n",
    "            \n",
    "    def normalize(self):\n",
    "        if self.augmentation:\n",
    "            print('--> Data Augmentation: Rotation (by ' + str(self.rot_deg_increment) + ' deg incrementally up to 360 deg)')\n",
    "        for path in self.data_paths:\n",
    "            # Load data from txt file.\n",
    "            txtfile = open(path, 'r')\n",
    "            lines = txtfile.read().splitlines()\n",
    "            data = [line.split() for line in lines]\n",
    "            data = np.transpose(sorted(data, key=lambda line: int(line[0]))).astype(float)\n",
    "            self.raw_data.append(data)            \n",
    "            if self.augmentation:\n",
    "                # Rotate data by deg_increment deg sequentially for data augmentation (only rotation is considered here)\n",
    "                deg_increment_int = int(self.rot_deg_increment)\n",
    "                for deg in range(deg_increment_int, 360, deg_increment_int):\n",
    "                    data_rotated = np.zeros_like(data)\n",
    "                    rad = np.radians(deg)\n",
    "                    c, s = np.cos(rad), np.sin(rad)\n",
    "                    Rot = np.array(((c,-s), (s, c)))\n",
    "                    for ii in range(data.shape[1]):\n",
    "                        data_rotated[0:2, ii] = data[0:2, ii]\n",
    "                        data_rotated[2:, ii] = np.dot(Rot, data[2:, ii])\n",
    "                    self.raw_data.append(data_rotated)\n",
    "            \n",
    "        # Find x_max, x_min, y_max, y_min across all the data.\n",
    "        x_max_global, x_min_global, y_max_global, y_min_global = -1000, 1000, -1000, 1000\n",
    "        for data in self.raw_data:\n",
    "            x = data[2,:]\n",
    "            x_min, x_max = min(x), max(x)\n",
    "            if x_min < x_min_global:\n",
    "                x_min_global = x_min\n",
    "            if x_max > x_max_global:\n",
    "                x_max_global = x_max\n",
    "            y = data[3,:]\n",
    "            y_min, y_max = min(y), max(y)\n",
    "            if y_min < y_min_global:\n",
    "                y_min_global = y_min\n",
    "            if y_max > y_max_global:\n",
    "                y_max_global = y_max\n",
    "        self.scale_factor_x = (x_max_global - x_min_global)/(1 + 1)\n",
    "        self.scale_factor_y = (y_max_global - y_min_global)/(1 + 1)\n",
    "        # Normalize all the data to range from -1 to 1.\n",
    "        for data in self.raw_data:\n",
    "            x = data[2,:]\n",
    "            x = (1 + 1)*(x - x_min_global)/(x_max_global - x_min_global)\n",
    "            x = x - 1.0\n",
    "            for jj in range(len(x)):\n",
    "                if abs(x[jj]) < 0.0001:\n",
    "                    data[2,jj] = 0.0\n",
    "                else:\n",
    "                    data[2,jj] = x[jj] \n",
    "            y = data[3,:]\n",
    "            y = (1 + 1)*(y - y_min_global)/(y_max_global - y_min_global)\n",
    "            y = y - 1.0\n",
    "            for jj in range(len(y)):\n",
    "                if abs(y[jj]) < 0.0001:\n",
    "                    data[3,jj] = 0.0\n",
    "                else:\n",
    "                    data[3,jj] = y[jj]\n",
    "        ''' # Sanity check.\n",
    "        # Find x_max, x_min, y_max, y_min across all the data.\n",
    "        x_max_global, x_min_global, y_max_global, y_min_global = -1000, 1000, -1000, 1000\n",
    "        for data in self.raw_data:\n",
    "            x = data[2,:]\n",
    "            x_min, x_max = min(x), max(x)\n",
    "            if x_min < x_min_global:\n",
    "                x_min_global = x_min\n",
    "            if x_max > x_max_global:\n",
    "                x_max_global = x_max\n",
    "            y = data[3,:]\n",
    "            y_min, y_max = min(y), max(y)\n",
    "            if y_min < y_min_global:\n",
    "                y_min_global = y_min\n",
    "            if y_max > y_max_global:\n",
    "                y_max_global = y_max\n",
    "        print(x_min_global, x_max_global)\n",
    "        print(y_min_global, y_max_global)\n",
    "        '''\n",
    "    \n",
    "    def preprocess(self):\n",
    "        random.seed(1) # Random seed for pedestrian permutation and data shuffling\n",
    "        for data in self.raw_data:\n",
    "            # Frame IDs of the frames in the current dataset\n",
    "            frameList = np.unique(data[0, :].astype(int)).tolist()\n",
    "            #print(frameList)\n",
    "            numFrames = len(frameList)\n",
    "            \n",
    "            # Frame ID increment for this dataset.\n",
    "            frame_increment = np.min(np.array(frameList[1:-1]) - np.array(frameList[0:-2]))\n",
    "            \n",
    "            # For this dataset check which pedestrians exist in each frame.\n",
    "            pedsInFrameList = []\n",
    "            pedsPosInFrameList = []\n",
    "            for ind, frame in enumerate(frameList):\n",
    "                # For this frame check the pedestrian IDs.\n",
    "                pedsInFrame = data[:, data[0, :].astype(int) == frame]\n",
    "                pedsList = pedsInFrame[1, :].astype(int).tolist()\n",
    "                pedsInFrameList.append(pedsList)\n",
    "                # Position information for each pedestrian.\n",
    "                pedsPos = []\n",
    "                for ped in pedsList:\n",
    "                    # Extract x and y positions\n",
    "                    current_x = pedsInFrame[2, pedsInFrame[1, :].astype(int) == ped][0]\n",
    "                    current_y = pedsInFrame[3, pedsInFrame[1, :].astype(int) == ped][0]\n",
    "                    pedsPos.extend([current_x, current_y])\n",
    "                    if (current_x == 0.0 and current_y == 0.0):\n",
    "                        print('[WARNING] There exists a pedestrian at coordinate [0.0, 0.0]')\n",
    "                pedsPosInFrameList.append(pedsPos)\n",
    "            # Go over the frames in this data again to extract data.\n",
    "            ind = 0\n",
    "            while ind < len(frameList) - (self.input_seq_length + self.pred_seq_length):\n",
    "                # Check if this sequence contains consecutive frames. Otherwise skip this sequence.\n",
    "                if not frameList[ind + self.input_seq_length + self.pred_seq_length - 1] - frameList[ind] == (self.input_seq_length + self.pred_seq_length - 1)*frame_increment:\n",
    "                    ind += 1\n",
    "                    continue\n",
    "                # List of pedestirans in this sequence.\n",
    "                pedsList = np.unique(np.concatenate(pedsInFrameList[ind : ind + self.input_seq_length + self.pred_seq_length])).tolist()\n",
    "                # Print the Frame numbers and pedestrian IDs in this sequence for sanity check.\n",
    "                # print(str(int(self.input_seq_length + self.pred_seq_length)) + ' frames starting from Frame ' + str(int(frameList[ind])) +  ' contain pedestrians ' + str(pedsList))\n",
    "                # Initialize numpy arrays for input-output pair\n",
    "                data_input = np.zeros((2*len(pedsList), self.input_seq_length))\n",
    "                data_output = np.zeros((2*len(pedsList), self.pred_seq_length))\n",
    "                for ii in range(self.input_seq_length):\n",
    "                    for jj in range(len(pedsList)):\n",
    "                        if pedsList[jj] in pedsInFrameList[ind + ii]:\n",
    "                            datum_index = pedsInFrameList[ind + ii].index(pedsList[jj])\n",
    "                            data_input[2*jj:2*(jj + 1), ii] = np.array(pedsPosInFrameList[ind + ii][2*datum_index:2*(datum_index + 1)])\n",
    "                for ii in range(self.pred_seq_length):\n",
    "                    for jj in range(len(pedsList)):\n",
    "                        if pedsList[jj] in pedsInFrameList[ind + self.input_seq_length + ii]:\n",
    "                            datum_index = pedsInFrameList[ind + self.input_seq_length + ii].index(pedsList[jj])\n",
    "                            data_output[2*jj:2*(jj + 1), ii] = np.array(pedsPosInFrameList[ind + self.input_seq_length + ii][2*datum_index:2*(datum_index + 1)])\n",
    "                processed_pair = (torch.from_numpy(data_input), torch.from_numpy(data_output))\n",
    "                self.processed_input_output_pairs.append(processed_pair)\n",
    "                ind += self.input_seq_length + self.pred_seq_length\n",
    "        print('--> Data Size: ' + str(len(self.processed_input_output_pairs)))\n",
    "        if self.augmentation:\n",
    "            # Perform data augmentation\n",
    "            self.augment_flip()\n",
    "            self.augment_permute()\n",
    "        else:\n",
    "            print('--> Skipping data augmentation')\n",
    "        # Shuffle data.\n",
    "        print('--> Shuffling all data before saving')\n",
    "        random.shuffle(self.processed_input_output_pairs)\n",
    "        # Split data into train, dev, and test sets.\n",
    "        dev_size = int(len(self.processed_input_output_pairs)*self.dev_ratio)\n",
    "        test_size = int(len(self.processed_input_output_pairs)*self.test_ratio)\n",
    "        processed_dev_set = self.processed_input_output_pairs[:dev_size]\n",
    "        processed_test_set = self.processed_input_output_pairs[dev_size:dev_size+test_size]\n",
    "        processed_train_set = self.processed_input_output_pairs[dev_size+test_size:]\n",
    "        print('--> Dumping dev data with size ' + str(len(processed_dev_set)) + ' to pickle file')\n",
    "        f_dev = open(self.processed_dev_data_file, 'wb')\n",
    "        pickle.dump(processed_dev_set, f_dev, protocol=2)\n",
    "        f_dev.close()\n",
    "        print('--> Dumping test data with size ' + str(len(processed_test_set)) + ' to pickle file')\n",
    "        f_test = open(self.processed_test_data_file, 'wb')\n",
    "        pickle.dump(processed_test_set, f_test, protocol=2)\n",
    "        f_test.close()\n",
    "        print('--> Dumping train data with size ' + str(len(processed_train_set)) + ' to pickle file')\n",
    "        f_train = open(self.processed_train_data_file, 'wb')\n",
    "        pickle.dump(processed_train_set, f_train, protocol=2)\n",
    "        f_train.close()\n",
    "        # Clear buffer\n",
    "        self.raw_data = []\n",
    "        self.processed_input_output_pairs = []\n",
    "    \n",
    "    def augment_flip(self):\n",
    "        print('--> Data Augmentation: Y Flip')\n",
    "        augmented_input_output_pairs = []\n",
    "        for processed_input_output_pair in tqdm(self.processed_input_output_pairs):\n",
    "            data_input, data_output = processed_input_output_pair[0].numpy(), processed_input_output_pair[1].numpy()\n",
    "            num_peds = int(data_input.shape[0]/2)\n",
    "            # Flip y\n",
    "            data_input_yflipped = np.zeros_like(data_input)\n",
    "            data_output_yflipped = np.zeros_like(data_output)\n",
    "            for kk in range(num_peds):\n",
    "                data_input_yflipped[2*kk, :] = data_input[2*kk, :]\n",
    "                data_input_yflipped[2*kk+1, :] = -1*data_input[2*kk+1, :]\n",
    "                data_output_yflipped[2*kk, :] = data_output[2*kk, :]\n",
    "                data_output_yflipped[2*kk+1, :] = -1*data_output[2*kk+1, :]\n",
    "            processed_pair_yflipped = (torch.from_numpy(data_input_yflipped), torch.from_numpy(data_output_yflipped))\n",
    "            augmented_input_output_pairs.append(processed_pair_yflipped)\n",
    "        self.processed_input_output_pairs.extend(augmented_input_output_pairs)\n",
    "        print('--> Augmented Data Size: ' + str(len(self.processed_input_output_pairs)))\n",
    "        \n",
    "    def augment_permute(self):\n",
    "        # Specify how many pedestrian permutations to consider per input-output pair\n",
    "        print('--> Data Augmentation: Pedestrian Permutation (' + str(self.permutations) + ' random permutations per input-output pair)')\n",
    "        augmented_input_output_pairs = []\n",
    "        for processed_input_output_pair in tqdm(self.processed_input_output_pairs):\n",
    "            data_input, data_output = processed_input_output_pair[0].numpy(), processed_input_output_pair[1].numpy()\n",
    "            num_peds = int(data_input.shape[0]/2)\n",
    "            for ii in range(self.permutations):\n",
    "                perm = np.random.permutation(num_peds)\n",
    "                data_input_permuted = np.zeros_like(data_input)\n",
    "                data_output_permuted = np.zeros_like(data_output)\n",
    "                for jj in range(len(perm)):\n",
    "                    data_input_permuted[2*jj:2*(jj+1), :] = data_input[2*perm[jj]:2*(perm[jj]+1), :]\n",
    "                    data_output_permuted[2*jj:2*(jj+1), :] = data_output[2*perm[jj]:2*(perm[jj]+1), :]\n",
    "                processed_pair_permuted = (torch.from_numpy(data_input_permuted), torch.from_numpy(data_output_permuted))\n",
    "                augmented_input_output_pairs.append(processed_pair_permuted)\n",
    "        self.processed_input_output_pairs.extend(augmented_input_output_pairs)\n",
    "        print('--> Augmented Data Size: ' + str(len(self.processed_input_output_pairs)))"
   ]
  },
  {
   "cell_type": "code",
   "execution_count": 13,
   "metadata": {
    "scrolled": true
   },
   "outputs": [
    {
     "name": "stdout",
     "output_type": "stream",
     "text": [
      "============ Normalizing raw data (after rotation data augmentation) ============\n",
      "--> Data Augmentation: Rotation (by 120 deg incrementally up to 360 deg)\n",
      "============ Creating pre-processed training, dev and test data for CNN ============\n"
     ]
    },
    {
     "name": "stderr",
     "output_type": "stream",
     "text": [
      " 46%|████▌     | 3274/7167 [00:00<00:00, 15329.75it/s]"
     ]
    },
    {
     "name": "stdout",
     "output_type": "stream",
     "text": [
      "--> Data Size: 7167\n",
      "--> Data Augmentation: Y Flip\n"
     ]
    },
    {
     "name": "stderr",
     "output_type": "stream",
     "text": [
      "100%|██████████| 7167/7167 [00:00<00:00, 18974.29it/s]\n",
      "  5%|▌         | 784/14334 [00:00<00:01, 7797.66it/s]"
     ]
    },
    {
     "name": "stdout",
     "output_type": "stream",
     "text": [
      "--> Augmented Data Size: 14334\n",
      "--> Data Augmentation: Pedestrian Permutation (4 random permutations per input-output pair)\n"
     ]
    },
    {
     "name": "stderr",
     "output_type": "stream",
     "text": [
      "100%|██████████| 14334/14334 [00:02<00:00, 5793.13it/s]\n"
     ]
    },
    {
     "name": "stdout",
     "output_type": "stream",
     "text": [
      "--> Augmented Data Size: 71670\n",
      "--> Shuffling all data before saving\n",
      "--> Dumping dev data with size 7167 to pickle file\n",
      "--> Dumping test data with size 7167 to pickle file\n",
      "--> Dumping train data with size 57336 to pickle file\n"
     ]
    }
   ],
   "source": [
    "processed = CustomDataPreprocessorForCNN(forcePreProcess=True, augmentation=True)"
   ]
  },
  {
   "cell_type": "code",
   "execution_count": 14,
   "metadata": {},
   "outputs": [
    {
     "data": {
      "text/plain": [
       "64.1025370214826"
      ]
     },
     "execution_count": 14,
     "metadata": {},
     "output_type": "execute_result"
    }
   ],
   "source": [
    "processed.scale_factor_x"
   ]
  },
  {
   "cell_type": "code",
   "execution_count": 15,
   "metadata": {},
   "outputs": [
    {
     "data": {
      "text/plain": [
       "58.6984739782018"
      ]
     },
     "execution_count": 15,
     "metadata": {},
     "output_type": "execute_result"
    }
   ],
   "source": [
    "processed.scale_factor_y"
   ]
  },
  {
   "cell_type": "code",
   "execution_count": 16,
   "metadata": {},
   "outputs": [],
   "source": [
    "train_file = open(processed.processed_train_data_file, 'rb')\n",
    "dev_file = open(processed.processed_dev_data_file, 'rb')\n",
    "test_file = open(processed.processed_test_data_file, 'rb')"
   ]
  },
  {
   "cell_type": "code",
   "execution_count": 17,
   "metadata": {},
   "outputs": [
    {
     "data": {
      "text/plain": [
       "'./data/train/processed/trajectories_cnn_train.cpkl'"
      ]
     },
     "execution_count": 17,
     "metadata": {},
     "output_type": "execute_result"
    }
   ],
   "source": [
    "processed.processed_train_data_file"
   ]
  },
  {
   "cell_type": "code",
   "execution_count": 18,
   "metadata": {},
   "outputs": [],
   "source": [
    "train = pickle.load(train_file)\n",
    "dev = pickle.load(dev_file)\n",
    "test = pickle.load(test_file)"
   ]
  },
  {
   "cell_type": "code",
   "execution_count": 19,
   "metadata": {},
   "outputs": [
    {
     "data": {
      "text/plain": [
       "57336"
      ]
     },
     "execution_count": 19,
     "metadata": {},
     "output_type": "execute_result"
    }
   ],
   "source": [
    "len(train)"
   ]
  },
  {
   "cell_type": "code",
   "execution_count": 20,
   "metadata": {},
   "outputs": [
    {
     "data": {
      "text/plain": [
       "7167"
      ]
     },
     "execution_count": 20,
     "metadata": {},
     "output_type": "execute_result"
    }
   ],
   "source": [
    "len(dev)"
   ]
  },
  {
   "cell_type": "code",
   "execution_count": 21,
   "metadata": {},
   "outputs": [
    {
     "data": {
      "text/plain": [
       "7167"
      ]
     },
     "execution_count": 21,
     "metadata": {},
     "output_type": "execute_result"
    }
   ],
   "source": [
    "len(test)"
   ]
  },
  {
   "cell_type": "code",
   "execution_count": 22,
   "metadata": {},
   "outputs": [],
   "source": [
    "class CustomDatasetForCNN(torch.utils.data.Dataset):\n",
    "    def __init__(self, file_path):\n",
    "        self.file_path = file_path\n",
    "        self.file = open(self.file_path, 'rb')\n",
    "        self.data = pickle.load(self.file)\n",
    "        self.file.close()\n",
    "    \n",
    "    def __getitem__(self, index):\n",
    "        item = self.data[index]\n",
    "        return item\n",
    "    \n",
    "    def __len__(self):\n",
    "        return len(self.data)     \n",
    "        "
   ]
  },
  {
   "cell_type": "code",
   "execution_count": 23,
   "metadata": {},
   "outputs": [],
   "source": [
    "train_set = CustomDatasetForCNN(processed.processed_train_data_file)"
   ]
  },
  {
   "cell_type": "code",
   "execution_count": 24,
   "metadata": {},
   "outputs": [],
   "source": [
    "train_loader = torch.utils.data.DataLoader(dataset=train_set, batch_size=1, shuffle=True)"
   ]
  },
  {
   "cell_type": "code",
   "execution_count": 25,
   "metadata": {},
   "outputs": [],
   "source": [
    "x, y = train_set.__getitem__(9)"
   ]
  },
  {
   "cell_type": "code",
   "execution_count": 30,
   "metadata": {},
   "outputs": [
    {
     "data": {
      "text/plain": [
       "tensor([[-0.4141, -0.4038, -0.3931,  0.0000,  0.0000],\n",
       "        [-0.2194, -0.2203, -0.2203,  0.0000,  0.0000],\n",
       "        [ 0.0000,  0.0000,  0.0000, -0.3828, -0.3745],\n",
       "        [ 0.0000,  0.0000,  0.0000, -0.2208, -0.2217],\n",
       "        [-0.3894, -0.3629, -0.3373, -0.3126, -0.2903],\n",
       "        [-0.1838, -0.1852, -0.1865, -0.1883, -0.1915],\n",
       "        [-0.0417, -0.0417, -0.0417, -0.0417, -0.0417],\n",
       "        [-0.4738, -0.4738, -0.4738, -0.4738, -0.4738],\n",
       "        [-0.0896, -0.0896, -0.0896, -0.0896, -0.0896],\n",
       "        [-0.4336, -0.4336, -0.4336, -0.4336, -0.4336],\n",
       "        [ 0.0884,  0.0884,  0.0884,  0.0884,  0.0884],\n",
       "        [ 0.1679,  0.1485,  0.1296,  0.1106,  0.0913],\n",
       "        [-0.4227, -0.4231, -0.4236, -0.4240, -0.4245],\n",
       "        [-0.5598, -0.5599, -0.5599, -0.5600, -0.5601],\n",
       "        [-0.0764,  0.0000,  0.0000,  0.0000,  0.0000],\n",
       "        [ 0.1048,  0.0000,  0.0000,  0.0000,  0.0000],\n",
       "        [ 0.0000, -0.0855, -0.0954, -0.1049, -0.1140],\n",
       "        [ 0.0000,  0.1048,  0.1066,  0.1070,  0.1070],\n",
       "        [ 0.0347,  0.0347,  0.0347,  0.0347,  0.0347],\n",
       "        [-0.0815, -0.0711, -0.0607, -0.0512, -0.0409],\n",
       "        [-0.2948, -0.2886, -0.2804,  0.0000,  0.0000],\n",
       "        [-0.2600, -0.2564, -0.2537,  0.0000,  0.0000],\n",
       "        [ 0.0000,  0.0000,  0.0000, -0.2738, -0.2655],\n",
       "        [ 0.0000,  0.0000,  0.0000, -0.2496, -0.2496],\n",
       "        [-0.0141, -0.0141, -0.0141, -0.0141, -0.0141],\n",
       "        [-0.3755, -0.3755, -0.3755, -0.3755, -0.3755]], dtype=torch.float64)"
      ]
     },
     "execution_count": 30,
     "metadata": {},
     "output_type": "execute_result"
    }
   ],
   "source": [
    "x"
   ]
  },
  {
   "cell_type": "code",
   "execution_count": 31,
   "metadata": {},
   "outputs": [
    {
     "data": {
      "text/plain": [
       "[tensor([[[ 0.0347,  0.0257,  0.0167,  0.0074, -0.0016],\n",
       "          [-0.0439, -0.0439, -0.0439, -0.0439, -0.0439]]], dtype=torch.float64),\n",
       " tensor([[[-0.0109, -0.0199, -0.0280, -0.0348, -0.0428],\n",
       "          [-0.0439, -0.0439, -0.0439, -0.0469, -0.0510]]], dtype=torch.float64)]"
      ]
     },
     "execution_count": 31,
     "metadata": {},
     "output_type": "execute_result"
    }
   ],
   "source": [
    "next(iter(train_loader))"
   ]
  },
  {
   "cell_type": "code",
   "execution_count": 32,
   "metadata": {},
   "outputs": [],
   "source": [
    "x, y = train_set.__getitem__(9)"
   ]
  },
  {
   "cell_type": "code",
   "execution_count": 33,
   "metadata": {},
   "outputs": [
    {
     "data": {
      "text/plain": [
       "57336"
      ]
     },
     "execution_count": 33,
     "metadata": {},
     "output_type": "execute_result"
    }
   ],
   "source": [
    "len(train_loader)"
   ]
  },
  {
   "cell_type": "code",
   "execution_count": null,
   "metadata": {},
   "outputs": [],
   "source": []
  }
 ],
 "metadata": {
  "kernelspec": {
   "display_name": "Python 3",
   "language": "python",
   "name": "python3"
  },
  "language_info": {
   "codemirror_mode": {
    "name": "ipython",
    "version": 3
   },
   "file_extension": ".py",
   "mimetype": "text/x-python",
   "name": "python",
   "nbconvert_exporter": "python",
   "pygments_lexer": "ipython3",
   "version": "3.6.6"
  }
 },
 "nbformat": 4,
 "nbformat_minor": 2
}

{
 "cells": [
  {
   "cell_type": "code",
   "execution_count": 244,
   "metadata": {},
   "outputs": [],
   "source": [
    "import os\n",
    "import torch\n",
    "import torch.utils.data\n",
    "import pickle\n",
    "import numpy as np\n",
    "import random\n",
    "import itertools\n",
    "from tqdm import tqdm"
   ]
  },
  {
   "cell_type": "code",
   "execution_count": 245,
   "metadata": {},
   "outputs": [],
   "source": [
    "class CustomDataPreprocessorForCNN():\n",
    "    def __init__(self, input_seq_length=5, pred_seq_length=5, datasets=[i for i in range(37)], dev_ratio=0.2, test_ratio=0.2, forcePreProcess=False, augmentation=True):\n",
    "        self.data_paths = ['./data/train/raw/biwi/biwi_hotel.txt', './data/train/raw/crowds/arxiepiskopi1.txt',\n",
    "                          './data/train/raw/crowds/crowds_zara02.txt', './data/train/raw/crowds/crowds_zara03.txt',\n",
    "                          './data/train/raw/crowds/students001.txt', './data/train/raw/crowds/students003.txt', \n",
    "                          './data/train/raw/stanford/bookstore_0.txt',\n",
    "                          './data/train/raw/stanford/bookstore_1.txt', './data/train/raw/stanford/bookstore_2.txt',\n",
    "                          './data/train/raw/stanford/bookstore_3.txt', './data/train/raw/stanford/coupa_3.txt',\n",
    "                          './data/train/raw/stanford/deathCircle_0.txt', './data/train/raw/stanford/deathCircle_1.txt',\n",
    "                          './data/train/raw/stanford/deathCircle_2.txt', './data/train/raw/stanford/deathCircle_3.txt',\n",
    "                          './data/train/raw/stanford/deathCircle_4.txt', './data/train/raw/stanford/gates_0.txt',\n",
    "                          './data/train/raw/stanford/gates_1.txt', './data/train/raw/stanford/gates_3.txt',\n",
    "                          './data/train/raw/stanford/gates_4.txt', './data/train/raw/stanford/gates_5.txt',\n",
    "                          './data/train/raw/stanford/gates_6.txt', './data/train/raw/stanford/gates_7.txt',\n",
    "                          './data/train/raw/stanford/gates_8.txt', './data/train/raw/stanford/hyang_4.txt',\n",
    "                          './data/train/raw/stanford/hyang_5.txt', './data/train/raw/stanford/hyang_6.txt',\n",
    "                          './data/train/raw/stanford/hyang_7.txt', './data/train/raw/stanford/hyang_9.txt',\n",
    "                          './data/train/raw/stanford/nexus_0.txt', './data/train/raw/stanford/nexus_1.txt',\n",
    "                          './data/train/raw/stanford/nexus_2.txt', './data/train/raw/stanford/nexus_3.txt',\n",
    "                          './data/train/raw/stanford/nexus_4.txt', './data/train/raw/stanford/nexus_7.txt',\n",
    "                          './data/train/raw/stanford/nexus_8.txt', './data/train/raw/stanford/nexus_9.txt']\n",
    "        # Number of datasets\n",
    "        self.numDatasets = len(self.data_paths)\n",
    "        \n",
    "        # Data directory where the pre-processed pickle file resides\n",
    "        self.data_dir = './data/train/processed'\n",
    "        \n",
    "        # Store the arguments\n",
    "        self.input_seq_length = input_seq_length\n",
    "        self.pred_seq_length = pred_seq_length\n",
    "        \n",
    "        # Dev Ratio\n",
    "        self.dev_ratio = dev_ratio\n",
    "        # Test Ratio\n",
    "        self.test_ratio = test_ratio\n",
    "        \n",
    "        # Buffer for storing raw data.\n",
    "        self.raw_data = []\n",
    "        # Buffer for storing processed data.\n",
    "        self.processed_input_output_pairs = []\n",
    "        \n",
    "        # Scale Factor for x and y (computed in self.process())\n",
    "        self.scale_factor_x = None\n",
    "        self.scale_factor_y = None\n",
    "        \n",
    "        # Data augmentation flag\n",
    "        self.augmentation = augmentation\n",
    "        # Rotation increment (deg) for data augmentation (only valid if augmentation is True)\n",
    "        self.rot_deg_increment = 30\n",
    "        \n",
    "        # Define the path in which the process data would be stored\n",
    "        self.processed_train_data_file = os.path.join(self.data_dir, \"trajectories_cnn_train.cpkl\")\n",
    "        self.processed_dev_data_file = os.path.join(self.data_dir, \"trajectories_cnn_dev.cpkl\")\n",
    "        self.processed_test_data_file = os.path.join(self.data_dir, \"trajectories_cnn_test.cpkl\")\n",
    "        \n",
    "        # If the file doesn't exist or forcePreProcess is true\n",
    "        if not(os.path.exists(self.processed_train_data_file)) or not(os.path.exists(self.processed_dev_data_file)) or not(os.path.exists(self.processed_test_data_file)) or forcePreProcess:\n",
    "            print(\"============ Normalizing raw data (after rotation data augmentation) ============\")\n",
    "            self.normalize()\n",
    "            print(\"============ Creating pre-processed training, dev and test data for CNN ============\")\n",
    "            self.preprocess()\n",
    "            \n",
    "    def normalize(self):\n",
    "        i = 0\n",
    "        for path in self.data_paths:\n",
    "            if i == 1:\n",
    "                break\n",
    "            # Load data from txt file.\n",
    "            txtfile = open(path, 'r')\n",
    "            lines = txtfile.read().splitlines()\n",
    "            data = [line.split() for line in lines]\n",
    "            data = np.transpose(sorted(data, key=lambda line: int(line[0]))).astype(float)\n",
    "            # data[[2,3]] = data[[3,2]]\n",
    "            self.raw_data.append(data)\n",
    "            i += 1\n",
    "            \n",
    "            if self.augmentation:\n",
    "                print('--> Data Augmentation 1: Rotation')\n",
    "                # Rotate data by deg_increment deg sequentially for data augmentation (only rotation is considered here)\n",
    "                deg_increment_int = int(self.rot_deg_increment)\n",
    "                for deg in range(deg_increment_int, 360, deg_increment_int):\n",
    "                    data_rotated = np.zeros_like(data)\n",
    "                    rad = np.radians(deg)\n",
    "                    c, s = np.cos(rad), np.sin(rad)\n",
    "                    Rot = np.array(((c,-s), (s, c)))\n",
    "                    for ii in range(data.shape[1]):\n",
    "                        data_rotated[0:2, ii] = data[0:2, ii]\n",
    "                        data_rotated[2:, ii] = np.dot(Rot, data[2:, ii])\n",
    "                    self.raw_data.append(data_rotated)\n",
    "            \n",
    "        # Find x_max, x_min, y_max, y_min across all the data.\n",
    "        x_max_global, x_min_global, y_max_global, y_min_global = -1000, 1000, -1000, 1000\n",
    "        for data in self.raw_data:\n",
    "            x = data[2,:]\n",
    "            x_min, x_max = min(x), max(x)\n",
    "            if x_min < x_min_global:\n",
    "                x_min_global = x_min\n",
    "            if x_max > x_max_global:\n",
    "                x_max_global = x_max\n",
    "            y = data[3,:]\n",
    "            y_min, y_max = min(y), max(y)\n",
    "            if y_min < y_min_global:\n",
    "                y_min_global = y_min\n",
    "            if y_max > y_max_global:\n",
    "                y_max_global = y_max\n",
    "        self.scale_factor_x = (x_max_global - x_min_global)/(1 + 1)\n",
    "        self.scale_factor_y = (y_max_global - y_min_global)/(1 + 1)\n",
    "        # Normalize all the data to range from -1 to 1.\n",
    "        for data in self.raw_data:\n",
    "            x = data[2,:]\n",
    "            x = (1 + 1)*(x - x_min_global)/(x_max_global - x_min_global)\n",
    "            x = x - 1.0\n",
    "            for jj in range(len(x)):\n",
    "                if abs(x[jj]) < 0.0001:\n",
    "                    data[2,jj] = 0.0\n",
    "                else:\n",
    "                    data[2,jj] = x[jj] \n",
    "            y = data[3,:]\n",
    "            y = (1 + 1)*(y - y_min_global)/(y_max_global - y_min_global)\n",
    "            y = y - 1.0\n",
    "            for jj in range(len(y)):\n",
    "                if abs(y[jj]) < 0.0001:\n",
    "                    data[3,jj] = 0.0\n",
    "                else:\n",
    "                    data[3,jj] = y[jj]\n",
    "    \n",
    "    def preprocess(self):\n",
    "        random.seed(1) # Random seed for pedestrian permutation and data shuffling\n",
    "        for data in self.raw_data:\n",
    "            # Frame IDs of the frames in the current dataset\n",
    "            frameList = np.unique(data[0, :].astype(int)).tolist()\n",
    "            #print(frameList)\n",
    "            numFrames = len(frameList)\n",
    "            \n",
    "            # Frame ID increment for this dataset.\n",
    "            frame_increment = np.min(np.array(frameList[1:-1]) - np.array(frameList[0:-2]))\n",
    "            \n",
    "            # For this dataset check which pedestrians exist in each frame.\n",
    "            pedsInFrameList = []\n",
    "            pedsPosInFrameList = []\n",
    "            for ind, frame in enumerate(frameList):\n",
    "                # For this frame check the pedestrian IDs.\n",
    "                pedsInFrame = data[:, data[0, :].astype(int) == frame]\n",
    "                pedsList = pedsInFrame[1, :].astype(int).tolist()\n",
    "                pedsInFrameList.append(pedsList)\n",
    "                # Position information for each pedestrian.\n",
    "                pedsPos = []\n",
    "                for ped in pedsList:\n",
    "                    # Extract x and y positions\n",
    "                    current_x = pedsInFrame[2, pedsInFrame[1, :].astype(int) == ped][0]\n",
    "                    current_y = pedsInFrame[3, pedsInFrame[1, :].astype(int) == ped][0]\n",
    "                    pedsPos.extend([current_x, current_y])\n",
    "                    if (current_x == 0.0 and current_y == 0.0):\n",
    "                        print('[WARNING] There exists a pedestrian at coordinate [0.0, 0.0]')\n",
    "                pedsPosInFrameList.append(pedsPos)\n",
    "            \n",
    "            # Go over the frames in this data again to extract data.\n",
    "            peds_last_used_frame_dict = {}\n",
    "            ind = 0  # frame index\n",
    "            while ind < len(frameList) - (self.input_seq_length + self.pred_seq_length):\n",
    "                # Check if this sequence contains consecutive frames. Otherwise skip this sequence.\n",
    "                if not frameList[ind + self.input_seq_length + self.pred_seq_length - 1] - frameList[ind] == (self.input_seq_length + self.pred_seq_length - 1)*frame_increment:\n",
    "                    ind += 1\n",
    "                    continue\n",
    "                # List of pedestrians in this frame.\n",
    "                pedsList = pedsInFrameList[ind]\n",
    "                for ped in pedsList:\n",
    "                    # Check if this pedestrian in this frame is already considered. If so skip this pedestrian.\n",
    "                    if ped in peds_last_used_frame_dict.keys() and frameList[ind] <= peds_last_used_frame_dict[ped]:\n",
    "                        continue\n",
    "                    # Check if same pedestrian exists in the next (input_seq_length + pred_seq_length - 1) frames.\n",
    "                    ped_contained = all([(ped in pedsInFrame) for pedsInFrame in pedsInFrameList[ind:ind+self.input_seq_length+self.pred_seq_length]])\n",
    "                    if ped_contained:\n",
    "                        data_input = np.zeros((2, self.input_seq_length))\n",
    "                        data_output = np.zeros((2, self.pred_seq_length))\n",
    "                        for ii in range(self.input_seq_length):\n",
    "                            datum_index = pedsInFrameList[ind + ii].index(ped)\n",
    "                            data_input[:, ii] = np.array(pedsPosInFrameList[ind + ii][2*datum_index:2*(datum_index + 1)])\n",
    "                        for jj in range(self.pred_seq_length):\n",
    "                            datum_index = pedsInFrameList[ind + self.input_seq_length + jj].index(ped)\n",
    "                            data_output[:, jj] = np.array(pedsPosInFrameList[ind + self.input_seq_length + jj][2*datum_index:2*(datum_index + 1)])\n",
    "                        processed_pair = (torch.from_numpy(data_input), torch.from_numpy(data_output))\n",
    "                        self.processed_input_output_pairs.append(processed_pair)\n",
    "                        peds_last_used_frame_dict[ped] = ind + self.input_seq_length + self.pred_seq_length - 1\n",
    "                ind += 1\n",
    "        print('--> Data Size: ' + str(len(self.processed_input_output_pairs)))\n",
    "        if self.augmentation:\n",
    "            # Perform data augmentation\n",
    "            self.augment_flip()\n",
    "        else:\n",
    "            print('--> Skipping data augmentation')\n",
    "        # Shuffle data.\n",
    "        print('--> Shuffling all data before saving')\n",
    "        random.shuffle(self.processed_input_output_pairs)\n",
    "        # Split data into train, dev, and test sets.\n",
    "        dev_size = int(len(self.processed_input_output_pairs)*self.dev_ratio)\n",
    "        test_size = int(len(self.processed_input_output_pairs)*self.test_ratio)\n",
    "        processed_dev_set = self.processed_input_output_pairs[:dev_size]\n",
    "        processed_test_set = self.processed_input_output_pairs[dev_size:dev_size+test_size]\n",
    "        processed_train_set = self.processed_input_output_pairs[dev_size+test_size:]\n",
    "        print('--> Dumping dev data with size ' + str(len(processed_dev_set)) + ' to pickle file')\n",
    "        f_dev = open(self.processed_dev_data_file, 'wb')\n",
    "        pickle.dump(processed_dev_set, f_dev, protocol=2)\n",
    "        f_dev.close()\n",
    "        print('--> Dumping test data with size ' + str(len(processed_test_set)) + ' to pickle file')\n",
    "        f_test = open(self.processed_test_data_file, 'wb')\n",
    "        pickle.dump(processed_test_set, f_test, protocol=2)\n",
    "        f_test.close()\n",
    "        print('--> Dumping train data with size ' + str(len(processed_train_set)) + ' to pickle file')\n",
    "        f_train = open(self.processed_train_data_file, 'wb')\n",
    "        pickle.dump(processed_train_set, f_train, protocol=2)\n",
    "        f_train.close()\n",
    "        # Clear buffer\n",
    "        self.raw_data = []\n",
    "        self.processed_input_output_pairs = []\n",
    "    \n",
    "    def augment_flip(self):\n",
    "        print('--> Data Augmentation 2: Y Flip')\n",
    "        augmented_input_output_pairs = []\n",
    "        for processed_input_output_pair in tqdm(self.processed_input_output_pairs):\n",
    "            data_input, data_output = processed_input_output_pair[0].numpy(), processed_input_output_pair[1].numpy()\n",
    "            num_peds = int(data_input.shape[0]/2)\n",
    "            # Flip y\n",
    "            data_input_yflipped = np.zeros_like(data_input)\n",
    "            data_output_yflipped = np.zeros_like(data_output)\n",
    "            for kk in range(num_peds):\n",
    "                data_input_yflipped[2*kk, :] = data_input[2*kk, :]\n",
    "                data_input_yflipped[2*kk+1, :] = -1*data_input[2*kk+1, :]\n",
    "                data_output_yflipped[2*kk, :] = data_output[2*kk, :]\n",
    "                data_output_yflipped[2*kk+1, :] = -1*data_output[2*kk+1, :]\n",
    "            processed_pair_yflipped = (torch.from_numpy(data_input_yflipped), torch.from_numpy(data_output_yflipped))\n",
    "            augmented_input_output_pairs.append(processed_pair_yflipped)\n",
    "        self.processed_input_output_pairs.extend(augmented_input_output_pairs)\n",
    "        print('--> Augmented Data Size: ' + str(len(self.processed_input_output_pairs)))"
   ]
  },
  {
   "cell_type": "code",
   "execution_count": 246,
   "metadata": {},
   "outputs": [
    {
     "name": "stdout",
     "output_type": "stream",
     "text": [
      "============ Normalizing raw data (after rotation data augmentation) ============\n",
      "--> Data Augmentation 1: Rotation\n",
      "============ Creating pre-processed training, dev and test data for CNN ============\n"
     ]
    },
    {
     "name": "stderr",
     "output_type": "stream",
     "text": [
      " 54%|█████▍    | 10399/19128 [00:00<00:00, 53192.09it/s]"
     ]
    },
    {
     "name": "stdout",
     "output_type": "stream",
     "text": [
      "--> Data Size: 19128\n",
      "--> Data Augmentation 2: Y Flip\n"
     ]
    },
    {
     "name": "stderr",
     "output_type": "stream",
     "text": [
      "100%|██████████| 19128/19128 [00:00<00:00, 57714.05it/s]\n"
     ]
    },
    {
     "name": "stdout",
     "output_type": "stream",
     "text": [
      "--> Augmented Data Size: 38256\n",
      "--> Shuffling all data before saving\n",
      "--> Dumping dev data with size 7651 to pickle file\n",
      "--> Dumping test data with size 7651 to pickle file\n",
      "--> Dumping train data with size 22954 to pickle file\n"
     ]
    }
   ],
   "source": [
    "processed = CustomDataPreprocessorForCNN(forcePreProcess=True, augmentation=True)"
   ]
  },
  {
   "cell_type": "code",
   "execution_count": 247,
   "metadata": {},
   "outputs": [],
   "source": [
    "train_file = open(processed.processed_train_data_file, 'rb')\n",
    "dev_file = open(processed.processed_dev_data_file, 'rb')\n",
    "test_file = open(processed.processed_test_data_file, 'rb')"
   ]
  },
  {
   "cell_type": "code",
   "execution_count": 248,
   "metadata": {},
   "outputs": [
    {
     "data": {
      "text/plain": [
       "'./data/train/processed/trajectories_cnn_train.cpkl'"
      ]
     },
     "execution_count": 248,
     "metadata": {},
     "output_type": "execute_result"
    }
   ],
   "source": [
    "processed.processed_train_data_file"
   ]
  },
  {
   "cell_type": "code",
   "execution_count": 249,
   "metadata": {},
   "outputs": [],
   "source": [
    "train = pickle.load(train_file)\n",
    "dev = pickle.load(dev_file)\n",
    "test = pickle.load(test_file)"
   ]
  },
  {
   "cell_type": "code",
   "execution_count": 250,
   "metadata": {},
   "outputs": [
    {
     "data": {
      "text/plain": [
       "22954"
      ]
     },
     "execution_count": 250,
     "metadata": {},
     "output_type": "execute_result"
    }
   ],
   "source": [
    "len(train)"
   ]
  },
  {
   "cell_type": "code",
   "execution_count": 251,
   "metadata": {},
   "outputs": [
    {
     "data": {
      "text/plain": [
       "7651"
      ]
     },
     "execution_count": 251,
     "metadata": {},
     "output_type": "execute_result"
    }
   ],
   "source": [
    "len(dev)"
   ]
  },
  {
   "cell_type": "code",
   "execution_count": 252,
   "metadata": {},
   "outputs": [
    {
     "data": {
      "text/plain": [
       "7651"
      ]
     },
     "execution_count": 252,
     "metadata": {},
     "output_type": "execute_result"
    }
   ],
   "source": [
    "len(test)"
   ]
  },
  {
   "cell_type": "code",
   "execution_count": 253,
   "metadata": {},
   "outputs": [],
   "source": [
    "class CustomDatasetForCNN(torch.utils.data.Dataset):\n",
    "    def __init__(self, file_path):\n",
    "        self.file_path = file_path\n",
    "        self.file = open(self.file_path, 'rb')\n",
    "        self.data = pickle.load(self.file)\n",
    "        self.file.close()\n",
    "    \n",
    "    def __getitem__(self, index):\n",
    "        item = self.data[index]\n",
    "        return item\n",
    "    \n",
    "    def __len__(self):\n",
    "        return len(self.data)     \n",
    "        "
   ]
  },
  {
   "cell_type": "code",
   "execution_count": 254,
   "metadata": {},
   "outputs": [],
   "source": [
    "train_set = CustomDatasetForCNN(processed.processed_train_data_file)"
   ]
  },
  {
   "cell_type": "code",
   "execution_count": 255,
   "metadata": {},
   "outputs": [],
   "source": [
    "train_loader = torch.utils.data.DataLoader(dataset=train_set, batch_size=1, shuffle=True)"
   ]
  },
  {
   "cell_type": "code",
   "execution_count": 256,
   "metadata": {},
   "outputs": [],
   "source": [
    "x, y = train_set.__getitem__(99)"
   ]
  },
  {
   "cell_type": "code",
   "execution_count": 257,
   "metadata": {},
   "outputs": [
    {
     "data": {
      "text/plain": [
       "tensor([[-0.0203, -0.0221, -0.0221, -0.0249, -0.0258],\n",
       "        [-0.0138, -0.0120, -0.0147, -0.0166, -0.0166]], dtype=torch.float64)"
      ]
     },
     "execution_count": 257,
     "metadata": {},
     "output_type": "execute_result"
    }
   ],
   "source": [
    "x"
   ]
  },
  {
   "cell_type": "code",
   "execution_count": 258,
   "metadata": {},
   "outputs": [
    {
     "data": {
      "text/plain": [
       "[tensor([[[-0.1217, -0.1254, -0.1226, -0.1152, -0.1235],\n",
       "          [-0.3991, -0.3429, -0.2913, -0.2397, -0.1890]]], dtype=torch.float64),\n",
       " tensor([[[-0.1337, -0.1327, -0.1300, -0.1337, -0.1272],\n",
       "          [-0.1521, -0.1032, -0.0479, -0.0101,  0.0387]]], dtype=torch.float64)]"
      ]
     },
     "execution_count": 258,
     "metadata": {},
     "output_type": "execute_result"
    }
   ],
   "source": [
    "next(iter(train_loader))"
   ]
  },
  {
   "cell_type": "code",
   "execution_count": 259,
   "metadata": {},
   "outputs": [],
   "source": [
    "x, y = train_set.__getitem__(9)"
   ]
  },
  {
   "cell_type": "code",
   "execution_count": 260,
   "metadata": {},
   "outputs": [
    {
     "data": {
      "text/plain": [
       "22954"
      ]
     },
     "execution_count": 260,
     "metadata": {},
     "output_type": "execute_result"
    }
   ],
   "source": [
    "len(train_loader)"
   ]
  },
  {
   "cell_type": "code",
   "execution_count": null,
   "metadata": {},
   "outputs": [],
   "source": []
  }
 ],
 "metadata": {
  "kernelspec": {
   "display_name": "Python 3",
   "language": "python",
   "name": "python3"
  },
  "language_info": {
   "codemirror_mode": {
    "name": "ipython",
    "version": 3
   },
   "file_extension": ".py",
   "mimetype": "text/x-python",
   "name": "python",
   "nbconvert_exporter": "python",
   "pygments_lexer": "ipython3",
   "version": "3.6.6"
  }
 },
 "nbformat": 4,
 "nbformat_minor": 2
}

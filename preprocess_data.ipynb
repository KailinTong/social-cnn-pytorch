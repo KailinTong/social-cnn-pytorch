{
 "cells": [
  {
   "cell_type": "code",
   "execution_count": 4,
   "metadata": {},
   "outputs": [],
   "source": [
    "# Empty Cell"
   ]
  },
  {
   "cell_type": "code",
   "execution_count": 5,
   "metadata": {},
   "outputs": [],
   "source": [
    "# Execute this cell to process training data. Skip next cell.\n",
    "\n",
    "import numpy as np\n",
    "import csv\n",
    "\n",
    "input_directory  = \"/home/haruki/Documents/2018-19_Autumn/CS_230/pedestrian_prediction/social-cnn-pytorch_new_dataset_20181117/data/train/raw/\"\n",
    "output_directory = \"/home/haruki/Documents/2018-19_Autumn/CS_230/pedestrian_prediction/social-cnn-pytorch_new_dataset_20181117/data/train/processed/\"\n",
    "dataset_file_names = [\"biwi/biwi_hotel.txt\",\n",
    "                      \"crowds/arxiepiskopi1.txt\",\n",
    "                      \"crowds/crowds_zara02.txt\",\n",
    "                      \"crowds/crowds_zara03.txt\",\n",
    "                      \"crowds/students001.txt\",\n",
    "                      \"crowds/students003.txt\",\n",
    "                      \"mot/PETS09-S2L1.txt\",\n",
    "                      \"stanford/bookstore_0.txt\",\n",
    "                      \"stanford/bookstore_1.txt\",\n",
    "                      \"stanford/bookstore_2.txt\",\n",
    "                      \"stanford/bookstore_3.txt\",\n",
    "                      \"stanford/coupa_3.txt\",\n",
    "                      \"stanford/deathCircle_0.txt\",\n",
    "                      \"stanford/deathCircle_1.txt\",\n",
    "                      \"stanford/deathCircle_2.txt\",\n",
    "                      \"stanford/deathCircle_3.txt\",\n",
    "                      \"stanford/deathCircle_4.txt\",\n",
    "                      \"stanford/gates_0.txt\",\n",
    "                      \"stanford/gates_1.txt\",\n",
    "                      \"stanford/gates_3.txt\",\n",
    "                      \"stanford/gates_4.txt\",\n",
    "                      \"stanford/gates_5.txt\",\n",
    "                      \"stanford/gates_6.txt\",\n",
    "                      \"stanford/gates_7.txt\",\n",
    "                      \"stanford/gates_8.txt\",\n",
    "                      \"stanford/hyang_4.txt\",\n",
    "                      \"stanford/hyang_5.txt\",\n",
    "                      \"stanford/hyang_6.txt\",\n",
    "                      \"stanford/hyang_7.txt\",\n",
    "                      \"stanford/hyang_9.txt\",\n",
    "                      \"stanford/nexus_0.txt\",\n",
    "                      \"stanford/nexus_1.txt\",\n",
    "                      \"stanford/nexus_2.txt\",\n",
    "                      \"stanford/nexus_3.txt\",\n",
    "                      \"stanford/nexus_4.txt\",\n",
    "                      \"stanford/nexus_7.txt\",\n",
    "                      \"stanford/nexus_8.txt\",\n",
    "                      \"stanford/nexus_9.txt\"]\n",
    "\n",
    "# Store paths to each dataset.\n",
    "dataset_paths = []\n",
    "for ii in range(len(dataset_file_names)):\n",
    "    filename = input_directory + dataset_file_names[ii]\n",
    "    dataset_paths.append(filename)\n"
   ]
  },
  {
   "cell_type": "code",
   "execution_count": 6,
   "metadata": {},
   "outputs": [],
   "source": [
    "# Find x_max, x_min, y_max, y_min across all the data.\n",
    "x_max_global, x_min_global, y_max_global, y_min_global = -1000, 1000, -1000, 1000\n",
    "for ii in range(len(dataset_file_names)):\n",
    "    txtfile = open(dataset_paths[ii], 'r')\n",
    "    lines = txtfile.read().splitlines()\n",
    "    data = [line.split() for line in lines]\n",
    "    data = np.transpose(sorted(data, key=lambda line: int(line[0])))\n",
    "    data[[2,3]] = data[[3,2]]\n",
    "    y = data[2,:].astype(np.float)\n",
    "    y_min, y_max = min(y), max(y)\n",
    "    if y_min < y_min_global:\n",
    "        y_min_global = y_min\n",
    "    if y_max > y_max_global:\n",
    "        y_max_global = y_max\n",
    "    \n",
    "    x = data[3,:].astype(np.float)\n",
    "    x_min, x_max = min(x), max(x)\n",
    "    if x_min < x_min_global:\n",
    "        x_min_global = x_min\n",
    "    if x_max > x_max_global:\n",
    "        x_max_global = x_max\n",
    "        \n",
    "scale_factor_x = (x_max_global - x_min_global)/(1 + 1)\n",
    "scale_factor_y = (y_max_global - y_min_global)/(1 + 1)"
   ]
  },
  {
   "cell_type": "code",
   "execution_count": 7,
   "metadata": {},
   "outputs": [
    {
     "name": "stdout",
     "output_type": "stream",
     "text": [
      "(-28.242, 63.559)\n"
     ]
    }
   ],
   "source": [
    "print((y_min_global, y_max_global))"
   ]
  },
  {
   "cell_type": "code",
   "execution_count": 8,
   "metadata": {},
   "outputs": [
    {
     "name": "stdout",
     "output_type": "stream",
     "text": [
      "45.9005\n"
     ]
    }
   ],
   "source": [
    "print(scale_factor_y)"
   ]
  },
  {
   "cell_type": "code",
   "execution_count": 9,
   "metadata": {},
   "outputs": [
    {
     "name": "stdout",
     "output_type": "stream",
     "text": [
      "(-37.029, 36.737)\n"
     ]
    }
   ],
   "source": [
    "print((x_min_global, x_max_global))"
   ]
  },
  {
   "cell_type": "code",
   "execution_count": 10,
   "metadata": {},
   "outputs": [
    {
     "name": "stdout",
     "output_type": "stream",
     "text": [
      "36.883\n"
     ]
    }
   ],
   "source": [
    "print(scale_factor_x)"
   ]
  },
  {
   "cell_type": "code",
   "execution_count": 11,
   "metadata": {},
   "outputs": [],
   "source": [
    "# Rescale data and save.\n",
    "output_paths = []\n",
    "for ii in range(len(dataset_file_names)):\n",
    "    txtfile = open(dataset_paths[ii], 'r')\n",
    "    lines = txtfile.read().splitlines()\n",
    "    data = [line.split() for line in lines]\n",
    "    data = np.transpose(sorted(data, key=lambda line: int(line[0])))\n",
    "    data[[2,3]] = data[[3,2]]\n",
    "    y = data[2,:].astype(np.float)\n",
    "    y = 2*(y - y_min_global)/(y_max_global - y_min_global)\n",
    "    y = y - 1.0\n",
    "    y = y*(-1.0)\n",
    "    for jj in range(len(y)):\n",
    "        if abs(y[jj]) < 0.0001:\n",
    "            data[2,jj] = 0.0\n",
    "        else:\n",
    "            data[2,jj] = y[jj] \n",
    "    x = data[3,:].astype(np.float)\n",
    "    x = 2*(x - x_min_global)/(x_max_global - x_min_global)\n",
    "    x = x - 1.0\n",
    "    for jj in range(len(x)):\n",
    "        if abs(x[jj]) < 0.0001:\n",
    "            data[3,jj] = 0.0\n",
    "        else:\n",
    "            data[3,jj] = x[jj]\n",
    "    path_new = output_directory + dataset_file_names[ii][0:-4] + \"/world_pos_normalized.csv\"\n",
    "    with open(path_new,'w') as out:\n",
    "        csv_out = csv.writer(out)\n",
    "        for row in data:\n",
    "            csv_out.writerow(row)\n",
    "    output_paths.append(path_new)"
   ]
  },
  {
   "cell_type": "code",
   "execution_count": 12,
   "metadata": {},
   "outputs": [
    {
     "name": "stdout",
     "output_type": "stream",
     "text": [
      "/home/haruki/Documents/2018-19_Autumn/CS_230/pedestrian_prediction/social-cnn-pytorch_new_dataset_20181117/data/train/processed/biwi/biwi_hotel/world_pos_normalized.csv\n",
      "0.2908 0.6093\n",
      "-0.071 0.1134\n",
      "/home/haruki/Documents/2018-19_Autumn/CS_230/pedestrian_prediction/social-cnn-pytorch_new_dataset_20181117/data/train/processed/crowds/arxiepiskopi1/world_pos_normalized.csv\n",
      "0.3797 0.5378\n",
      "-0.95 -0.058\n",
      "/home/haruki/Documents/2018-19_Autumn/CS_230/pedestrian_prediction/social-cnn-pytorch_new_dataset_20181117/data/train/processed/crowds/crowds_zara02/world_pos_normalized.csv\n",
      "0.0873 0.3861\n",
      "-0.002 0.4187\n",
      "/home/haruki/Documents/2018-19_Autumn/CS_230/pedestrian_prediction/social-cnn-pytorch_new_dataset_20181117/data/train/processed/crowds/crowds_zara03/world_pos_normalized.csv\n",
      "0.1151 0.3734\n",
      "-0.001 0.4217\n",
      "/home/haruki/Documents/2018-19_Autumn/CS_230/pedestrian_prediction/social-cnn-pytorch_new_dataset_20181117/data/train/processed/crowds/students001/world_pos_normalized.csv\n",
      "0.0836 0.388\n",
      "-0.006 0.4207\n",
      "/home/haruki/Documents/2018-19_Autumn/CS_230/pedestrian_prediction/social-cnn-pytorch_new_dataset_20181117/data/train/processed/crowds/students003/world_pos_normalized.csv\n",
      "0.0862 0.3895\n",
      "0.0047 0.4198\n",
      "/home/haruki/Documents/2018-19_Autumn/CS_230/pedestrian_prediction/social-cnn-pytorch_new_dataset_20181117/data/train/processed/mot/PETS09-S2L1/world_pos_normalized.csv\n",
      "0.3082 0.7411\n",
      "-0.534 0.1997\n",
      "/home/haruki/Documents/2018-19_Autumn/CS_230/pedestrian_prediction/social-cnn-pytorch_new_dataset_20181117/data/train/processed/stanford/bookstore_0/world_pos_normalized.csv\n",
      "-0.0623 0.82551\n",
      "-0.7272 0.73467\n",
      "/home/haruki/Documents/2018-19_Autumn/CS_230/pedestrian_prediction/social-cnn-pytorch_new_dataset_20181117/data/train/processed/stanford/bookstore_1/world_pos_normalized.csv\n",
      "-0.075 0.84795\n",
      "-0.758 0.75999\n",
      "/home/haruki/Documents/2018-19_Autumn/CS_230/pedestrian_prediction/social-cnn-pytorch_new_dataset_20181117/data/train/processed/stanford/bookstore_2/world_pos_normalized.csv\n",
      "-0.0883 0.85865\n",
      "-0.7708 0.77716\n",
      "/home/haruki/Documents/2018-19_Autumn/CS_230/pedestrian_prediction/social-cnn-pytorch_new_dataset_20181117/data/train/processed/stanford/bookstore_3/world_pos_normalized.csv\n",
      "-0.0654 0.83958\n",
      "-0.7412 0.63842\n",
      "/home/haruki/Documents/2018-19_Autumn/CS_230/pedestrian_prediction/social-cnn-pytorch_new_dataset_20181117/data/train/processed/stanford/coupa_3/world_pos_normalized.csv\n",
      "0.08719 0.67972\n",
      "-0.4697 0.86313\n",
      "/home/haruki/Documents/2018-19_Autumn/CS_230/pedestrian_prediction/social-cnn-pytorch_new_dataset_20181117/data/train/processed/stanford/deathCircle_0/world_pos_normalized.csv\n",
      "-0.8291 0.84865\n",
      "-0.7723 1.0\n",
      "/home/haruki/Documents/2018-19_Autumn/CS_230/pedestrian_prediction/social-cnn-pytorch_new_dataset_20181117/data/train/processed/stanford/deathCircle_1/world_pos_normalized.csv\n",
      "-0.7662 0.83496\n",
      "-0.7424 0.72865\n",
      "/home/haruki/Documents/2018-19_Autumn/CS_230/pedestrian_prediction/social-cnn-pytorch_new_dataset_20181117/data/train/processed/stanford/deathCircle_2/world_pos_normalized.csv\n",
      "-0.5877 0.41782\n",
      "-0.7271 0.72976\n",
      "/home/haruki/Documents/2018-19_Autumn/CS_230/pedestrian_prediction/social-cnn-pytorch_new_dataset_20181117/data/train/processed/stanford/deathCircle_3/world_pos_normalized.csv\n",
      "-0.4466 0.7151\n",
      "-0.5376 0.52436\n",
      "/home/haruki/Documents/2018-19_Autumn/CS_230/pedestrian_prediction/social-cnn-pytorch_new_dataset_20181117/data/train/processed/stanford/deathCircle_4/world_pos_normalized.csv\n",
      "-0.74 0.67429\n",
      "-0.7305 0.60849\n",
      "/home/haruki/Documents/2018-19_Autumn/CS_230/pedestrian_prediction/social-cnn-pytorch_new_dataset_20181117/data/train/processed/stanford/gates_0/world_pos_normalized.csv\n",
      "-0.4132 0.43625\n",
      "-0.7502 0.652\n",
      "/home/haruki/Documents/2018-19_Autumn/CS_230/pedestrian_prediction/social-cnn-pytorch_new_dataset_20181117/data/train/processed/stanford/gates_1/world_pos_normalized.csv\n",
      "-0.7732 0.81313\n",
      "-0.6984 0.72166\n",
      "/home/haruki/Documents/2018-19_Autumn/CS_230/pedestrian_prediction/social-cnn-pytorch_new_dataset_20181117/data/train/processed/stanford/gates_3/world_pos_normalized.csv\n",
      "-0.7026 0.77987\n",
      "-0.6543 0.67212\n",
      "/home/haruki/Documents/2018-19_Autumn/CS_230/pedestrian_prediction/social-cnn-pytorch_new_dataset_20181117/data/train/processed/stanford/gates_4/world_pos_normalized.csv\n",
      "-0.9649 0.88024\n",
      "-0.4841 0.84854\n",
      "/home/haruki/Documents/2018-19_Autumn/CS_230/pedestrian_prediction/social-cnn-pytorch_new_dataset_20181117/data/train/processed/stanford/gates_5/world_pos_normalized.csv\n",
      "-0.5745 0.64841\n",
      "-0.6346 0.6417\n",
      "/home/haruki/Documents/2018-19_Autumn/CS_230/pedestrian_prediction/social-cnn-pytorch_new_dataset_20181117/data/train/processed/stanford/gates_6/world_pos_normalized.csv\n",
      "-0.6838 0.33771\n",
      "-0.494 0.56744\n",
      "/home/haruki/Documents/2018-19_Autumn/CS_230/pedestrian_prediction/social-cnn-pytorch_new_dataset_20181117/data/train/processed/stanford/gates_7/world_pos_normalized.csv\n",
      "-0.3076 0.56771\n",
      "-0.8564 0.59301\n",
      "/home/haruki/Documents/2018-19_Autumn/CS_230/pedestrian_prediction/social-cnn-pytorch_new_dataset_20181117/data/train/processed/stanford/gates_8/world_pos_normalized.csv\n",
      "-0.2112 0.29384\n",
      "-0.8543 0.68825\n",
      "/home/haruki/Documents/2018-19_Autumn/CS_230/pedestrian_prediction/social-cnn-pytorch_new_dataset_20181117/data/train/processed/stanford/hyang_4/world_pos_normalized.csv\n",
      "0.24473 0.78446\n",
      "-0.6431 0.55535\n",
      "/home/haruki/Documents/2018-19_Autumn/CS_230/pedestrian_prediction/social-cnn-pytorch_new_dataset_20181117/data/train/processed/stanford/hyang_5/world_pos_normalized.csv\n",
      "-0.5385 0.71566\n",
      "-0.5588 0.5933\n",
      "/home/haruki/Documents/2018-19_Autumn/CS_230/pedestrian_prediction/social-cnn-pytorch_new_dataset_20181117/data/train/processed/stanford/hyang_6/world_pos_normalized.csv\n",
      "0.03526 1.0\n",
      "-1.0 0.99715\n",
      "/home/haruki/Documents/2018-19_Autumn/CS_230/pedestrian_prediction/social-cnn-pytorch_new_dataset_20181117/data/train/processed/stanford/hyang_7/world_pos_normalized.csv\n",
      "-0.6881 0.78268\n",
      "-0.6026 0.69696\n",
      "/home/haruki/Documents/2018-19_Autumn/CS_230/pedestrian_prediction/social-cnn-pytorch_new_dataset_20181117/data/train/processed/stanford/hyang_9/world_pos_normalized.csv\n",
      "0.67843 0.69832\n",
      "-0.0017 0.28598\n",
      "/home/haruki/Documents/2018-19_Autumn/CS_230/pedestrian_prediction/social-cnn-pytorch_new_dataset_20181117/data/train/processed/stanford/nexus_0/world_pos_normalized.csv\n",
      "-0.9688 0.89021\n",
      "-0.8326 0.70997\n",
      "/home/haruki/Documents/2018-19_Autumn/CS_230/pedestrian_prediction/social-cnn-pytorch_new_dataset_20181117/data/train/processed/stanford/nexus_1/world_pos_normalized.csv\n",
      "-0.9176 0.88111\n",
      "-0.8268 0.83897\n",
      "/home/haruki/Documents/2018-19_Autumn/CS_230/pedestrian_prediction/social-cnn-pytorch_new_dataset_20181117/data/train/processed/stanford/nexus_2/world_pos_normalized.csv\n",
      "-0.8757 0.38148\n",
      "-0.7978 0.70555\n",
      "/home/haruki/Documents/2018-19_Autumn/CS_230/pedestrian_prediction/social-cnn-pytorch_new_dataset_20181117/data/train/processed/stanford/nexus_3/world_pos_normalized.csv\n",
      "-0.7983 0.82655\n",
      "-0.8569 0.57498\n",
      "/home/haruki/Documents/2018-19_Autumn/CS_230/pedestrian_prediction/social-cnn-pytorch_new_dataset_20181117/data/train/processed/stanford/nexus_4/world_pos_normalized.csv\n",
      "-0.7393 0.85603\n",
      "-0.878 0.6975\n",
      "/home/haruki/Documents/2018-19_Autumn/CS_230/pedestrian_prediction/social-cnn-pytorch_new_dataset_20181117/data/train/processed/stanford/nexus_7/world_pos_normalized.csv\n",
      "-0.7506 0.77516\n",
      "-0.7098 0.72429\n",
      "/home/haruki/Documents/2018-19_Autumn/CS_230/pedestrian_prediction/social-cnn-pytorch_new_dataset_20181117/data/train/processed/stanford/nexus_8/world_pos_normalized.csv\n",
      "-0.5958 0.57508\n",
      "-0.7043 0.62419\n",
      "/home/haruki/Documents/2018-19_Autumn/CS_230/pedestrian_prediction/social-cnn-pytorch_new_dataset_20181117/data/train/processed/stanford/nexus_9/world_pos_normalized.csv\n",
      "-1.0 0.89895\n",
      "-0.8515 0.84426\n"
     ]
    }
   ],
   "source": [
    "for path in output_paths:\n",
    "    print(path)\n",
    "    with open(path,'r') as f:\n",
    "        csv_in = csv.reader(f)\n",
    "        data = []\n",
    "        for row in csv_in:\n",
    "            data.append(row)\n",
    "        y_min,y_max = min(np.float_(data[2])),max(np.float_(data[2]))\n",
    "        x_min,x_max = min(np.float_(data[3])),max(np.float_(data[3]))\n",
    "        print(y_min,y_max)\n",
    "        print(x_min,x_max)"
   ]
  },
  {
   "cell_type": "code",
   "execution_count": null,
   "metadata": {},
   "outputs": [],
   "source": []
  }
 ],
 "metadata": {
  "kernelspec": {
   "display_name": "Python 3",
   "language": "python",
   "name": "python3"
  },
  "language_info": {
   "codemirror_mode": {
    "name": "ipython",
    "version": 3
   },
   "file_extension": ".py",
   "mimetype": "text/x-python",
   "name": "python",
   "nbconvert_exporter": "python",
   "pygments_lexer": "ipython3",
   "version": "3.6.6"
  }
 },
 "nbformat": 4,
 "nbformat_minor": 2
}
